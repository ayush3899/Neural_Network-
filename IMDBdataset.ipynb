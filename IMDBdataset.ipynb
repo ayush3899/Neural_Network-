{
  "nbformat": 4,
  "nbformat_minor": 0,
  "metadata": {
    "colab": {
      "name": "IMDBdataset.ipynb",
      "version": "0.3.2",
      "provenance": [],
      "collapsed_sections": [],
      "include_colab_link": true
    },
    "kernelspec": {
      "name": "python3",
      "display_name": "Python 3"
    }
  },
  "cells": [
    {
      "cell_type": "markdown",
      "metadata": {
        "id": "view-in-github",
        "colab_type": "text"
      },
      "source": [
        "[View in Colaboratory](https://colab.research.google.com/github/ayush3899/Neural_Network-/blob/master/IMDBdataset.ipynb)"
      ]
    },
    {
      "metadata": {
        "id": "HPiGBygDjQ5B",
        "colab_type": "code",
        "colab": {
          "base_uri": "https://localhost:8080/",
          "height": 34
        },
        "outputId": "3281f80c-37af-4e1d-e072-743c2b933ca2"
      },
      "cell_type": "code",
      "source": [
        "import tensorflow as tf\n",
        "from tensorflow import keras\n",
        "\n",
        "import numpy as np\n",
        "\n",
        "print(tf.__version__)"
      ],
      "execution_count": 1,
      "outputs": [
        {
          "output_type": "stream",
          "text": [
            "1.12.0-rc1\n"
          ],
          "name": "stdout"
        }
      ]
    },
    {
      "metadata": {
        "id": "bA14PsRSm3n4",
        "colab_type": "code",
        "colab": {}
      },
      "cell_type": "code",
      "source": [
        "imdb = keras.datasets.imdb\n",
        "\n",
        "(train_data, train_labels), (test_data, test_labels) = imdb.load_data(num_words=10000)"
      ],
      "execution_count": 0,
      "outputs": []
    },
    {
      "metadata": {
        "id": "EXb9wYuLnIIW",
        "colab_type": "code",
        "colab": {}
      },
      "cell_type": "code",
      "source": [
        "# The argument num_words=10000 keeps the top 10,000 most frequently \n",
        "# occurring words in the training data. The rare words are \n",
        "# discarded to keep the size of the data manageable."
      ],
      "execution_count": 0,
      "outputs": []
    },
    {
      "metadata": {
        "id": "hnr4TNtKnW0c",
        "colab_type": "code",
        "colab": {
          "base_uri": "https://localhost:8080/",
          "height": 34
        },
        "outputId": "333303d2-6e02-47d6-f3df-ce3f427a2ff1"
      },
      "cell_type": "code",
      "source": [
        "# explore the data\n",
        "print(\"Training entries: {}, labels: {}\".format(len(train_data), len(train_labels)))"
      ],
      "execution_count": 4,
      "outputs": [
        {
          "output_type": "stream",
          "text": [
            "Training entries: 25000, labels: 25000\n"
          ],
          "name": "stdout"
        }
      ]
    },
    {
      "metadata": {
        "id": "YEubUrH9nwsZ",
        "colab_type": "code",
        "colab": {
          "base_uri": "https://localhost:8080/",
          "height": 54
        },
        "outputId": "aebddbb7-a9c4-418c-9226-f1dcce3d79ff"
      },
      "cell_type": "code",
      "source": [
        "# The text of reviews have been converted to integers, \n",
        "# where each integer represents a specific word in a dictionary\n",
        "\n",
        "print(train_data[0])"
      ],
      "execution_count": 5,
      "outputs": [
        {
          "output_type": "stream",
          "text": [
            "[1, 14, 22, 16, 43, 530, 973, 1622, 1385, 65, 458, 4468, 66, 3941, 4, 173, 36, 256, 5, 25, 100, 43, 838, 112, 50, 670, 2, 9, 35, 480, 284, 5, 150, 4, 172, 112, 167, 2, 336, 385, 39, 4, 172, 4536, 1111, 17, 546, 38, 13, 447, 4, 192, 50, 16, 6, 147, 2025, 19, 14, 22, 4, 1920, 4613, 469, 4, 22, 71, 87, 12, 16, 43, 530, 38, 76, 15, 13, 1247, 4, 22, 17, 515, 17, 12, 16, 626, 18, 2, 5, 62, 386, 12, 8, 316, 8, 106, 5, 4, 2223, 5244, 16, 480, 66, 3785, 33, 4, 130, 12, 16, 38, 619, 5, 25, 124, 51, 36, 135, 48, 25, 1415, 33, 6, 22, 12, 215, 28, 77, 52, 5, 14, 407, 16, 82, 2, 8, 4, 107, 117, 5952, 15, 256, 4, 2, 7, 3766, 5, 723, 36, 71, 43, 530, 476, 26, 400, 317, 46, 7, 4, 2, 1029, 13, 104, 88, 4, 381, 15, 297, 98, 32, 2071, 56, 26, 141, 6, 194, 7486, 18, 4, 226, 22, 21, 134, 476, 26, 480, 5, 144, 30, 5535, 18, 51, 36, 28, 224, 92, 25, 104, 4, 226, 65, 16, 38, 1334, 88, 12, 16, 283, 5, 16, 4472, 113, 103, 32, 15, 16, 5345, 19, 178, 32]\n"
          ],
          "name": "stdout"
        }
      ]
    },
    {
      "metadata": {
        "id": "CHA5lZ3vn4D6",
        "colab_type": "code",
        "colab": {
          "base_uri": "https://localhost:8080/",
          "height": 34
        },
        "outputId": "bbe60498-53cb-4b67-ded4-cc972c7a9f2c"
      },
      "cell_type": "code",
      "source": [
        "# Movie reviews may be different lengths. The below code shows \n",
        "# the number of words in the first and second reviews. \n",
        "# Since inputs to a neural network must be the same length, \n",
        "# we'll need to resolve this later.\n",
        "\n",
        "len(train_data[0]),len(train_data[1])"
      ],
      "execution_count": 6,
      "outputs": [
        {
          "output_type": "execute_result",
          "data": {
            "text/plain": [
              "(218, 189)"
            ]
          },
          "metadata": {
            "tags": []
          },
          "execution_count": 6
        }
      ]
    },
    {
      "metadata": {
        "id": "NHmCFnaRoGz0",
        "colab_type": "code",
        "colab": {}
      },
      "cell_type": "code",
      "source": [
        "# A dictionary mapping words to an integer index\n",
        "word_index = imdb.get_word_index()\n",
        "\n",
        "# The first indices are reserved\n",
        "word_index = {k:(v+3) for k,v in word_index.items()} \n",
        "word_index[\"<PAD>\"] = 0\n",
        "word_index[\"<START>\"] = 1\n",
        "word_index[\"<UNK>\"] = 2  # unknown\n",
        "word_index[\"<UNUSED>\"] = 3\n",
        "\n",
        "reverse_word_index = dict([(value, key) for (key, value) in word_index.items()])\n",
        "\n",
        "def decode_review(text):\n",
        "    return ' '.join([reverse_word_index.get(i, '?') for i in text])"
      ],
      "execution_count": 0,
      "outputs": []
    },
    {
      "metadata": {
        "id": "5oumfTNVqFxw",
        "colab_type": "code",
        "colab": {
          "base_uri": "https://localhost:8080/",
          "height": 54
        },
        "outputId": "f0bb9645-4f9b-4af5-de16-6400fd2ef473"
      },
      "cell_type": "code",
      "source": [
        "decode_review(train_data[0])\n"
      ],
      "execution_count": 10,
      "outputs": [
        {
          "output_type": "execute_result",
          "data": {
            "text/plain": [
              "\"<START> this film was just brilliant casting location scenery story direction everyone's really suited the part they played and you could just imagine being there robert <UNK> is an amazing actor and now the same being director <UNK> father came from the same scottish island as myself so i loved the fact there was a real connection with this film the witty remarks throughout the film were great it was just brilliant so much that i bought the film as soon as it was released for <UNK> and would recommend it to everyone to watch and the fly fishing was amazing really cried at the end it was so sad and you know what they say if you cry at a film it must have been good and this definitely was also <UNK> to the two little boy's that played the <UNK> of norman and paul they were just brilliant children are often left out of the <UNK> list i think because the stars that play them all grown up are such a big profile for the whole film but these children are amazing and should be praised for what they have done don't you think the whole story was so lovely because it was true and was someone's life after all that was shared with us all\""
            ]
          },
          "metadata": {
            "tags": []
          },
          "execution_count": 10
        }
      ]
    },
    {
      "metadata": {
        "id": "Lns2wy6NqITz",
        "colab_type": "code",
        "colab": {}
      },
      "cell_type": "code",
      "source": [
        "train_data = keras.preprocessing.sequence.pad_sequences(train_data,\n",
        "                                                        value=word_index[\"<PAD>\"],\n",
        "                                                        padding='post',\n",
        "                                                        maxlen=256)\n",
        "\n",
        "test_data = keras.preprocessing.sequence.pad_sequences(test_data,\n",
        "                                                       value=word_index[\"<PAD>\"],\n",
        "                                                       padding='post',\n",
        "                                                       maxlen=256)"
      ],
      "execution_count": 0,
      "outputs": []
    },
    {
      "metadata": {
        "id": "UbStm4xnqpxv",
        "colab_type": "code",
        "colab": {
          "base_uri": "https://localhost:8080/",
          "height": 34
        },
        "outputId": "90401c6c-caf7-417a-8a5d-c9accf08854e"
      },
      "cell_type": "code",
      "source": [
        "len(train_data[0]), len(train_data[1])"
      ],
      "execution_count": 12,
      "outputs": [
        {
          "output_type": "execute_result",
          "data": {
            "text/plain": [
              "(256, 256)"
            ]
          },
          "metadata": {
            "tags": []
          },
          "execution_count": 12
        }
      ]
    },
    {
      "metadata": {
        "id": "lF9kVX2_qsmc",
        "colab_type": "code",
        "colab": {
          "base_uri": "https://localhost:8080/",
          "height": 340
        },
        "outputId": "aabbe29a-5dcb-41d0-b561-6184b0bbd3de"
      },
      "cell_type": "code",
      "source": [
        "print(train_data[0])"
      ],
      "execution_count": 13,
      "outputs": [
        {
          "output_type": "stream",
          "text": [
            "[   1   14   22   16   43  530  973 1622 1385   65  458 4468   66 3941\n",
            "    4  173   36  256    5   25  100   43  838  112   50  670    2    9\n",
            "   35  480  284    5  150    4  172  112  167    2  336  385   39    4\n",
            "  172 4536 1111   17  546   38   13  447    4  192   50   16    6  147\n",
            " 2025   19   14   22    4 1920 4613  469    4   22   71   87   12   16\n",
            "   43  530   38   76   15   13 1247    4   22   17  515   17   12   16\n",
            "  626   18    2    5   62  386   12    8  316    8  106    5    4 2223\n",
            " 5244   16  480   66 3785   33    4  130   12   16   38  619    5   25\n",
            "  124   51   36  135   48   25 1415   33    6   22   12  215   28   77\n",
            "   52    5   14  407   16   82    2    8    4  107  117 5952   15  256\n",
            "    4    2    7 3766    5  723   36   71   43  530  476   26  400  317\n",
            "   46    7    4    2 1029   13  104   88    4  381   15  297   98   32\n",
            " 2071   56   26  141    6  194 7486   18    4  226   22   21  134  476\n",
            "   26  480    5  144   30 5535   18   51   36   28  224   92   25  104\n",
            "    4  226   65   16   38 1334   88   12   16  283    5   16 4472  113\n",
            "  103   32   15   16 5345   19  178   32    0    0    0    0    0    0\n",
            "    0    0    0    0    0    0    0    0    0    0    0    0    0    0\n",
            "    0    0    0    0    0    0    0    0    0    0    0    0    0    0\n",
            "    0    0    0    0]\n"
          ],
          "name": "stdout"
        }
      ]
    },
    {
      "metadata": {
        "id": "2zb4rYy6qujH",
        "colab_type": "code",
        "colab": {
          "base_uri": "https://localhost:8080/",
          "height": 272
        },
        "outputId": "1c43e59f-e03d-46c9-c46c-23ef6c69e25b"
      },
      "cell_type": "code",
      "source": [
        "# input shape is the vocabulary count used for the movie reviews (10,000 words)\n",
        "vocab_size = 10000\n",
        "\n",
        "model = keras.Sequential()\n",
        "model.add(keras.layers.Embedding(vocab_size, 16))\n",
        "model.add(keras.layers.GlobalAveragePooling1D())\n",
        "model.add(keras.layers.Dense(16, activation=tf.nn.relu))\n",
        "model.add(keras.layers.Dense(1, activation=tf.nn.sigmoid))\n",
        "\n",
        "model.summary()"
      ],
      "execution_count": 14,
      "outputs": [
        {
          "output_type": "stream",
          "text": [
            "_________________________________________________________________\n",
            "Layer (type)                 Output Shape              Param #   \n",
            "=================================================================\n",
            "embedding (Embedding)        (None, None, 16)          160000    \n",
            "_________________________________________________________________\n",
            "global_average_pooling1d (Gl (None, 16)                0         \n",
            "_________________________________________________________________\n",
            "dense (Dense)                (None, 16)                272       \n",
            "_________________________________________________________________\n",
            "dense_1 (Dense)              (None, 1)                 17        \n",
            "=================================================================\n",
            "Total params: 160,289\n",
            "Trainable params: 160,289\n",
            "Non-trainable params: 0\n",
            "_________________________________________________________________\n"
          ],
          "name": "stdout"
        }
      ]
    },
    {
      "metadata": {
        "id": "PLkjOzDuq4K0",
        "colab_type": "code",
        "colab": {}
      },
      "cell_type": "code",
      "source": [
        "model.compile(optimizer=tf.train.AdamOptimizer(),\n",
        "              loss='binary_crossentropy',\n",
        "              metrics=['accuracy'])"
      ],
      "execution_count": 0,
      "outputs": []
    },
    {
      "metadata": {
        "id": "0oJ_13_1r7A6",
        "colab_type": "code",
        "colab": {}
      },
      "cell_type": "code",
      "source": [
        "# Create a validation set\n",
        "x_val = train_data[:10000]\n",
        "partial_x_train = train_data[10000:]\n",
        "\n",
        "y_val = train_labels[:10000]\n",
        "partial_y_train = train_labels[10000:]"
      ],
      "execution_count": 0,
      "outputs": []
    },
    {
      "metadata": {
        "id": "u2z6Hu17sP7k",
        "colab_type": "code",
        "colab": {
          "base_uri": "https://localhost:8080/",
          "height": 1394
        },
        "outputId": "f4f9dae6-45fa-48ed-b015-d57763b68330"
      },
      "cell_type": "code",
      "source": [
        "#this is 40 iterations over all samples in the x_train nd \n",
        "# y_train tensors while training monitor the model's\n",
        "# loss nd accuracy in thr 10000 samples from the validaton\n",
        "\n",
        "history = model.fit(partial_x_train,\n",
        "                    partial_y_train,\n",
        "                    epochs=40,\n",
        "                    batch_size=512,\n",
        "                    validation_data=(x_val, y_val),\n",
        "                    verbose=1)"
      ],
      "execution_count": 17,
      "outputs": [
        {
          "output_type": "stream",
          "text": [
            "Train on 15000 samples, validate on 10000 samples\n",
            "Epoch 1/40\n",
            "15000/15000 [==============================] - 1s 72us/step - loss: 0.6918 - acc: 0.5701 - val_loss: 0.6897 - val_acc: 0.6593\n",
            "Epoch 2/40\n",
            "15000/15000 [==============================] - 1s 59us/step - loss: 0.6851 - acc: 0.7558 - val_loss: 0.6804 - val_acc: 0.7450\n",
            "Epoch 3/40\n",
            "15000/15000 [==============================] - 1s 59us/step - loss: 0.6714 - acc: 0.7741 - val_loss: 0.6633 - val_acc: 0.7663\n",
            "Epoch 4/40\n",
            "15000/15000 [==============================] - 1s 59us/step - loss: 0.6472 - acc: 0.7767 - val_loss: 0.6368 - val_acc: 0.7758\n",
            "Epoch 5/40\n",
            "15000/15000 [==============================] - 1s 59us/step - loss: 0.6124 - acc: 0.8019 - val_loss: 0.5997 - val_acc: 0.7925\n",
            "Epoch 6/40\n",
            "15000/15000 [==============================] - 1s 60us/step - loss: 0.5687 - acc: 0.8183 - val_loss: 0.5576 - val_acc: 0.8041\n",
            "Epoch 7/40\n",
            "15000/15000 [==============================] - 1s 59us/step - loss: 0.5204 - acc: 0.8360 - val_loss: 0.5136 - val_acc: 0.8219\n",
            "Epoch 8/40\n",
            "15000/15000 [==============================] - 1s 59us/step - loss: 0.4726 - acc: 0.8509 - val_loss: 0.4722 - val_acc: 0.8354\n",
            "Epoch 9/40\n",
            "15000/15000 [==============================] - 1s 59us/step - loss: 0.4292 - acc: 0.8621 - val_loss: 0.4361 - val_acc: 0.8452\n",
            "Epoch 10/40\n",
            "15000/15000 [==============================] - 1s 60us/step - loss: 0.3909 - acc: 0.8755 - val_loss: 0.4062 - val_acc: 0.8526\n",
            "Epoch 11/40\n",
            "15000/15000 [==============================] - 1s 59us/step - loss: 0.3590 - acc: 0.8839 - val_loss: 0.3840 - val_acc: 0.8556\n",
            "Epoch 12/40\n",
            "15000/15000 [==============================] - 1s 59us/step - loss: 0.3326 - acc: 0.8900 - val_loss: 0.3624 - val_acc: 0.8648\n",
            "Epoch 13/40\n",
            "15000/15000 [==============================] - 1s 59us/step - loss: 0.3088 - acc: 0.8969 - val_loss: 0.3475 - val_acc: 0.8693\n",
            "Epoch 14/40\n",
            "15000/15000 [==============================] - 1s 59us/step - loss: 0.2892 - acc: 0.9023 - val_loss: 0.3342 - val_acc: 0.8727\n",
            "Epoch 15/40\n",
            "15000/15000 [==============================] - 1s 59us/step - loss: 0.2722 - acc: 0.9069 - val_loss: 0.3240 - val_acc: 0.8751\n",
            "Epoch 16/40\n",
            "15000/15000 [==============================] - 1s 59us/step - loss: 0.2576 - acc: 0.9111 - val_loss: 0.3156 - val_acc: 0.8773\n",
            "Epoch 17/40\n",
            "15000/15000 [==============================] - 1s 59us/step - loss: 0.2435 - acc: 0.9165 - val_loss: 0.3087 - val_acc: 0.8773\n",
            "Epoch 18/40\n",
            "15000/15000 [==============================] - 1s 58us/step - loss: 0.2313 - acc: 0.9209 - val_loss: 0.3030 - val_acc: 0.8809\n",
            "Epoch 19/40\n",
            "15000/15000 [==============================] - 1s 58us/step - loss: 0.2199 - acc: 0.9249 - val_loss: 0.2984 - val_acc: 0.8815\n",
            "Epoch 20/40\n",
            "15000/15000 [==============================] - 1s 58us/step - loss: 0.2099 - acc: 0.9275 - val_loss: 0.2946 - val_acc: 0.8824\n",
            "Epoch 21/40\n",
            "15000/15000 [==============================] - 1s 59us/step - loss: 0.2001 - acc: 0.9316 - val_loss: 0.2915 - val_acc: 0.8830\n",
            "Epoch 22/40\n",
            "15000/15000 [==============================] - 1s 58us/step - loss: 0.1912 - acc: 0.9357 - val_loss: 0.2896 - val_acc: 0.8835\n",
            "Epoch 23/40\n",
            "15000/15000 [==============================] - 1s 58us/step - loss: 0.1830 - acc: 0.9389 - val_loss: 0.2881 - val_acc: 0.8842\n",
            "Epoch 24/40\n",
            "15000/15000 [==============================] - 1s 57us/step - loss: 0.1749 - acc: 0.9435 - val_loss: 0.2862 - val_acc: 0.8841\n",
            "Epoch 25/40\n",
            "15000/15000 [==============================] - 1s 58us/step - loss: 0.1677 - acc: 0.9471 - val_loss: 0.2854 - val_acc: 0.8848\n",
            "Epoch 26/40\n",
            "15000/15000 [==============================] - 1s 58us/step - loss: 0.1606 - acc: 0.9488 - val_loss: 0.2853 - val_acc: 0.8857\n",
            "Epoch 27/40\n",
            "15000/15000 [==============================] - 1s 59us/step - loss: 0.1546 - acc: 0.9520 - val_loss: 0.2858 - val_acc: 0.8852\n",
            "Epoch 28/40\n",
            "15000/15000 [==============================] - 1s 59us/step - loss: 0.1483 - acc: 0.9553 - val_loss: 0.2854 - val_acc: 0.8861\n",
            "Epoch 29/40\n",
            "15000/15000 [==============================] - 1s 58us/step - loss: 0.1424 - acc: 0.9558 - val_loss: 0.2859 - val_acc: 0.8861\n",
            "Epoch 30/40\n",
            "15000/15000 [==============================] - 1s 58us/step - loss: 0.1374 - acc: 0.9585 - val_loss: 0.2871 - val_acc: 0.8859\n",
            "Epoch 31/40\n",
            "15000/15000 [==============================] - 1s 57us/step - loss: 0.1314 - acc: 0.9611 - val_loss: 0.2884 - val_acc: 0.8868\n",
            "Epoch 32/40\n",
            "15000/15000 [==============================] - 1s 57us/step - loss: 0.1266 - acc: 0.9633 - val_loss: 0.2901 - val_acc: 0.8867\n",
            "Epoch 33/40\n",
            "15000/15000 [==============================] - 1s 57us/step - loss: 0.1213 - acc: 0.9657 - val_loss: 0.2920 - val_acc: 0.8855\n",
            "Epoch 34/40\n",
            "15000/15000 [==============================] - 1s 58us/step - loss: 0.1168 - acc: 0.9674 - val_loss: 0.2943 - val_acc: 0.8851\n",
            "Epoch 35/40\n",
            "15000/15000 [==============================] - 1s 59us/step - loss: 0.1128 - acc: 0.9685 - val_loss: 0.2960 - val_acc: 0.8852\n",
            "Epoch 36/40\n",
            "15000/15000 [==============================] - 1s 59us/step - loss: 0.1079 - acc: 0.9700 - val_loss: 0.2989 - val_acc: 0.8848\n",
            "Epoch 37/40\n",
            "15000/15000 [==============================] - 1s 58us/step - loss: 0.1040 - acc: 0.9719 - val_loss: 0.3017 - val_acc: 0.8841\n",
            "Epoch 38/40\n",
            "15000/15000 [==============================] - 1s 58us/step - loss: 0.1006 - acc: 0.9723 - val_loss: 0.3044 - val_acc: 0.8839\n",
            "Epoch 39/40\n",
            "15000/15000 [==============================] - 1s 59us/step - loss: 0.0963 - acc: 0.9741 - val_loss: 0.3069 - val_acc: 0.8843\n",
            "Epoch 40/40\n",
            "15000/15000 [==============================] - 1s 58us/step - loss: 0.0926 - acc: 0.9766 - val_loss: 0.3103 - val_acc: 0.8829\n"
          ],
          "name": "stdout"
        }
      ]
    },
    {
      "metadata": {
        "id": "wpS2P2Wpse50",
        "colab_type": "code",
        "colab": {
          "base_uri": "https://localhost:8080/",
          "height": 51
        },
        "outputId": "4e663d7b-dbf1-44c0-ae72-b85b51eb4272"
      },
      "cell_type": "code",
      "source": [
        "# print(partial_x_train.shape)\n",
        "test_loss, test_acc = model.evaluate(test_data, test_labels)\n",
        "\n",
        "print('Test accuracy:', test_acc)"
      ],
      "execution_count": 18,
      "outputs": [
        {
          "output_type": "stream",
          "text": [
            "25000/25000 [==============================] - 1s 36us/step\n",
            "Test accuracy: 0.87248\n"
          ],
          "name": "stdout"
        }
      ]
    },
    {
      "metadata": {
        "id": "eLiD9hHvtH_A",
        "colab_type": "code",
        "colab": {
          "base_uri": "https://localhost:8080/",
          "height": 51
        },
        "outputId": "3032be5e-98ee-4058-ae44-42cc603f25fb"
      },
      "cell_type": "code",
      "source": [
        "res=model.evaluate(test_data,test_labels)\n",
        "print(res)"
      ],
      "execution_count": 19,
      "outputs": [
        {
          "output_type": "stream",
          "text": [
            "25000/25000 [==============================] - 1s 35us/step\n",
            "[0.3307067870044708, 0.87248]\n"
          ],
          "name": "stdout"
        }
      ]
    },
    {
      "metadata": {
        "id": "hDU5HcY3uLqr",
        "colab_type": "code",
        "colab": {
          "base_uri": "https://localhost:8080/",
          "height": 34
        },
        "outputId": "a93ef51c-19d2-48be-b281-acc83fbba1f4"
      },
      "cell_type": "code",
      "source": [
        "# creat agraph of accuracy and loss over time \n",
        "history_dict = history.history\n",
        "history_dict.keys()"
      ],
      "execution_count": 20,
      "outputs": [
        {
          "output_type": "execute_result",
          "data": {
            "text/plain": [
              "dict_keys(['val_loss', 'val_acc', 'loss', 'acc'])"
            ]
          },
          "metadata": {
            "tags": []
          },
          "execution_count": 20
        }
      ]
    },
    {
      "metadata": {
        "id": "GTS8IQYZupxi",
        "colab_type": "code",
        "colab": {
          "base_uri": "https://localhost:8080/",
          "height": 376
        },
        "outputId": "922ce189-0941-46fe-c402-42fc75b6fe6d"
      },
      "cell_type": "code",
      "source": [
        "import matplotlib.pyplot as plt\n",
        "acc=history.history['acc']\n",
        "val_acc=history.history['val_acc']\n",
        "loss=history.history['loss']\n",
        "val_loss=history.history['val_loss']\n",
        "\n",
        "gg=range(1,len(acc)+1)\n",
        "\n",
        "plt.plot(gg,loss,'bo',label='Training loss')\n",
        "\n",
        "plt.plot(gg,val_loss,'b',label='Validation loss')\n",
        "plt.title('training nd validation loss')\n",
        "plt.xlabel(\"Epochs\")\n",
        "plt.ylabel('Loss')\n",
        "plt.legend()\n",
        "plt.show()"
      ],
      "execution_count": 21,
      "outputs": [
        {
          "output_type": "display_data",
          "data": {
            "image/png": "[encoded data removed]",
            "text/plain": [
              "<matplotlib.figure.Figure at 0x7f7eb672db00>"
            ]
          },
          "metadata": {
            "tags": []
          }
        }
      ]
    },
    {
      "metadata": {
        "id": "7I5iwJGivPh0",
        "colab_type": "code",
        "colab": {
          "base_uri": "https://localhost:8080/",
          "height": 376
        },
        "outputId": "a54c421c-dbce-4da6-d488-91aa81ea06cf"
      },
      "cell_type": "code",
      "source": [
        "plt.clf()   # clear figure\n",
        "acc_values = history_dict['acc']\n",
        "val_acc_values = history_dict['val_acc']\n",
        "\n",
        "plt.plot(gg, acc, 'bo', label='Training acc')\n",
        "plt.plot(gg, val_acc, 'b', label='Validation acc')\n",
        "plt.title('Training and validation accuracy')\n",
        "plt.xlabel('Epochs')\n",
        "plt.ylabel('Accuracy')\n",
        "plt.legend()\n",
        "\n",
        "plt.show()"
      ],
      "execution_count": 22,
      "outputs": [
        {
          "output_type": "display_data",
          "data": {
            "image/png": "[encoded data removed]",
            "text/plain": [
              "<matplotlib.figure.Figure at 0x7f7eb672d668>"
            ]
          },
          "metadata": {
            "tags": []
          }
        }
      ]
    },
    {
      "metadata": {
        "id": "9QPnDXYvvztd",
        "colab_type": "code",
        "colab": {
          "base_uri": "https://localhost:8080/",
          "height": 374
        },
        "outputId": "6d069693-9d49-4343-87c0-a75a0126fe6d"
      },
      "cell_type": "code",
      "source": [
        "#this is 40 iterations over all samples in the x_train nd \n",
        "# y_train tensors while training monitor the model's\n",
        "# loss nd accuracy in thr 10000 samples from the validaton\n",
        "# do same thing for 20 epochs\n",
        "history = model.fit(partial_x_train,\n",
        "                    partial_y_train,\n",
        "                    epochs=10,\n",
        "                    batch_size=512,\n",
        "                    validation_data=(x_val, y_val),\n",
        "                    verbose=1)"
      ],
      "execution_count": 23,
      "outputs": [
        {
          "output_type": "stream",
          "text": [
            "Train on 15000 samples, validate on 10000 samples\n",
            "Epoch 1/10\n",
            "15000/15000 [==============================] - 1s 52us/step - loss: 0.0893 - acc: 0.9777 - val_loss: 0.3133 - val_acc: 0.8832\n",
            "Epoch 2/10\n",
            "15000/15000 [==============================] - 1s 52us/step - loss: 0.0857 - acc: 0.9791 - val_loss: 0.3174 - val_acc: 0.8821\n",
            "Epoch 3/10\n",
            "15000/15000 [==============================] - 1s 54us/step - loss: 0.0825 - acc: 0.9807 - val_loss: 0.3205 - val_acc: 0.8818\n",
            "Epoch 4/10\n",
            "15000/15000 [==============================] - 1s 59us/step - loss: 0.0795 - acc: 0.9811 - val_loss: 0.3242 - val_acc: 0.8817\n",
            "Epoch 5/10\n",
            "15000/15000 [==============================] - 1s 58us/step - loss: 0.0767 - acc: 0.9820 - val_loss: 0.3279 - val_acc: 0.8819\n",
            "Epoch 6/10\n",
            "15000/15000 [==============================] - 1s 59us/step - loss: 0.0737 - acc: 0.9833 - val_loss: 0.3321 - val_acc: 0.8798\n",
            "Epoch 7/10\n",
            "15000/15000 [==============================] - 1s 58us/step - loss: 0.0715 - acc: 0.9843 - val_loss: 0.3362 - val_acc: 0.8801\n",
            "Epoch 8/10\n",
            "15000/15000 [==============================] - 1s 58us/step - loss: 0.0684 - acc: 0.9852 - val_loss: 0.3405 - val_acc: 0.8797\n",
            "Epoch 9/10\n",
            "15000/15000 [==============================] - 1s 58us/step - loss: 0.0658 - acc: 0.9861 - val_loss: 0.3445 - val_acc: 0.8792\n",
            "Epoch 10/10\n",
            "15000/15000 [==============================] - 1s 59us/step - loss: 0.0634 - acc: 0.9868 - val_loss: 0.3486 - val_acc: 0.8792\n"
          ],
          "name": "stdout"
        }
      ]
    },
    {
      "metadata": {
        "id": "ODt3PkFpxZQT",
        "colab_type": "code",
        "colab": {
          "base_uri": "https://localhost:8080/",
          "height": 51
        },
        "outputId": "5978f6c0-f229-4f78-92bd-2aa488322928"
      },
      "cell_type": "code",
      "source": [
        "res=model.evaluate(test_data,test_labels)\n",
        "print(res)"
      ],
      "execution_count": 24,
      "outputs": [
        {
          "output_type": "stream",
          "text": [
            "25000/25000 [==============================] - 1s 34us/step\n",
            "[0.37377921827316285, 0.8672]\n"
          ],
          "name": "stdout"
        }
      ]
    },
    {
      "metadata": {
        "id": "TVW4wIlsxihZ",
        "colab_type": "code",
        "colab": {
          "base_uri": "https://localhost:8080/",
          "height": 34
        },
        "outputId": "b4434c26-a499-4cdc-b571-0d63807be9b7"
      },
      "cell_type": "code",
      "source": [
        "# creat agraph of accuracy and loss over time \n",
        "history_dict = history.history\n",
        "history_dict.keys()"
      ],
      "execution_count": 25,
      "outputs": [
        {
          "output_type": "execute_result",
          "data": {
            "text/plain": [
              "dict_keys(['val_loss', 'val_acc', 'loss', 'acc'])"
            ]
          },
          "metadata": {
            "tags": []
          },
          "execution_count": 25
        }
      ]
    },
    {
      "metadata": {
        "id": "fq4-yPprxniU",
        "colab_type": "code",
        "colab": {
          "base_uri": "https://localhost:8080/",
          "height": 376
        },
        "outputId": "76c7ff0e-e440-4d10-baf8-4b47671b5c46"
      },
      "cell_type": "code",
      "source": [
        "import matplotlib.pyplot as plt\n",
        "acc=history.history['acc']\n",
        "val_acc=history.history['val_acc']\n",
        "loss=history.history['loss']\n",
        "val_loss=history.history['val_loss']\n",
        "\n",
        "gg=range(1,len(acc)+1)\n",
        "\n",
        "plt.plot(gg,loss,'bo',label='Training loss')\n",
        "\n",
        "plt.plot(gg,val_loss,'b',label='Validation loss')\n",
        "plt.title('training nd validation loss')\n",
        "plt.xlabel(\"Epochs\")\n",
        "plt.ylabel('Loss')\n",
        "plt.legend()\n",
        "plt.show()"
      ],
      "execution_count": 26,
      "outputs": [
        {
          "output_type": "display_data",
          "data": {
            "image/png": "[encoded data removed]",
            "text/plain": [
              "<matplotlib.figure.Figure at 0x7f7eb4ac20b8>"
            ]
          },
          "metadata": {
            "tags": []
          }
        }
      ]
    },
    {
      "metadata": {
        "id": "T76MMQi7xpeH",
        "colab_type": "code",
        "colab": {
          "base_uri": "https://localhost:8080/",
          "height": 376
        },
        "outputId": "f8235aa6-1afd-4d8d-eeeb-8879bde74493"
      },
      "cell_type": "code",
      "source": [
        "plt.clf()   # clear figure\n",
        "acc_values = history_dict['acc']\n",
        "val_acc_values = history_dict['val_acc']\n",
        "\n",
        "plt.plot(gg, acc, 'bo', label='Training acc')\n",
        "plt.plot(gg, val_acc, 'b', label='Validation acc')\n",
        "plt.title('Training and validation accuracy')\n",
        "plt.xlabel('Epochs')\n",
        "plt.ylabel('Accuracy')\n",
        "plt.legend()\n",
        "\n",
        "plt.show()"
      ],
      "execution_count": 27,
      "outputs": [
        {
          "output_type": "display_data",
          "data": {
            "image/png": "[encoded data removed]",
            "text/plain": [
              "<matplotlib.figure.Figure at 0x7f7eb6a2e630>"
            ]
          },
          "metadata": {
            "tags": []
          }
        }
      ]
    },
    {
      "metadata": {
        "id": "WhQNzJDdxs3W",
        "colab_type": "code",
        "colab": {}
      },
      "cell_type": "code",
      "source": [
        ""
      ],
      "execution_count": 0,
      "outputs": []
    }
  ]
}